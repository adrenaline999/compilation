{
  "nbformat": 4,
  "nbformat_minor": 0,
  "metadata": {
    "colab": {
      "provenance": [],
      "authorship_tag": "ABX9TyNURmzKKUSqKBHDU/6J3eSI",
      "include_colab_link": true
    },
    "kernelspec": {
      "name": "python3",
      "display_name": "Python 3"
    },
    "language_info": {
      "name": "python"
    }
  },
  "cells": [
    {
      "cell_type": "markdown",
      "metadata": {
        "id": "view-in-github",
        "colab_type": "text"
      },
      "source": [
        "<a href=\"https://colab.research.google.com/github/adrenaline999/compilation/blob/main/lab1_titanic_%3CVisilino%3E.ipynb\" target=\"_parent\"><img src=\"https://colab.research.google.com/assets/colab-badge.svg\" alt=\"Open In Colab\"/></a>"
      ]
    },
    {
      "cell_type": "code",
      "source": [
        "import pandas as pd\n",
        "# Load the dataset\n",
        "df = pd.read_csv(\"titanic.csv\")\n",
        "# Display the first few rows\n",
        "df.head()"
      ],
      "metadata": {
        "id": "DD0V4tI6MRCC"
      },
      "execution_count": null,
      "outputs": []
    },
    {
      "cell_type": "markdown",
      "source": [
        "Question 1.\n",
        "Determine the underlying tasks needed to be done for loading and handling the data based on the steps described in this part?\n",
        "Answer: The underlying tasks needed for loading and handling the data are based on the steps described in this section. First, I set up the environment by opening a Jupyter Notebook. Then, I import the required libraries, inspect the data, and load the dataset or run the given Python code."
      ],
      "metadata": {
        "id": "byhGPc8fMXwl"
      }
    },
    {
      "cell_type": "code",
      "source": [
        "df.isnull().sum()"
      ],
      "metadata": {
        "id": "rUIcwSHdMtsQ"
      },
      "execution_count": null,
      "outputs": []
    },
    {
      "cell_type": "markdown",
      "source": [
        "Question 2.\n",
        "Which columns contain missing values? Should we remove or fill them?\n",
        "Answer: The columns contain missing values are Age, Cabin, Embarked. We don't need to remove all the missing data just the Cabin, Since most values are missing, it may be best to drop this column. While the age column can be filled with the median or mean age of passengers to preserve data integrity. And the embarked column there are only two missing values, we can fill them with the most frequent value. The Algorithm for Handling Missing Values in the Titanic Dataset I use is.\n",
        "\n",
        "Step 1: Identify Missing Values\n",
        "\n",
        "Use df.isnull().sum() to count missing values in each column.\n",
        "\n",
        "Step 2: Decide How to Handle Missing Data\n",
        "\n",
        "For Numerical Data (Age): Use the Median Imputation technique because age distribution might be skewed.\n",
        "\n",
        "For Categorical Data (Embarked): Use Mode Imputation (filling with the most frequent value) since there are very few missing values.\n",
        "\n",
        "For Cabin (Mostly Missing Data): Apply Column Dropping since most values are missing, making it difficult to impute meaningfully.\n",
        "\n",
        "Algorithm Type:\n",
        "Imputation Algorithm (Median for Age, Mode for Embarked)\n",
        "Feature Selection Algorithm (Dropping Cabin due to high missing values)"
      ],
      "metadata": {
        "id": "VIXSDpjtN1qN"
      }
    },
    {
      "cell_type": "code",
      "source": [
        "df[\"Survived\"].mean()"
      ],
      "metadata": {
        "id": "c0pbTihrW_Al"
      },
      "execution_count": null,
      "outputs": []
    },
    {
      "cell_type": "markdown",
      "source": [
        "Question 3. What can you deduce on the survival rate of the passengers?\n",
        "Answer:  The Algorithm for Determining the Survival Rate of Passengers I use is:\n",
        "Step 1.Identify the Target Column\n",
        "\n",
        "Locate the Survived column, which contains binary values:\n",
        "1 → Passenger survived\n",
        "0 → Passenger did not survive\n",
        "\n",
        "Step 2.Calculate the Survival Rate\n",
        "\n",
        "Compute the mean of the Survived column using the formula:\n",
        "Survival Rate = Total Survive Passengers/Total Passengers\n",
        "\n",
        "Since the Survived column contains 1 for survivors and 0 for non-survivors, taking the mean directly gives the proportion of passengers who survived.\n",
        "\n",
        "Step 3:Interpret the Result\n",
        "\n",
        "If the survival rate is less than 50%, it indicates that most passengers did not survive.\n",
        "If it is greater than 50%, it means more than half of the passengers survived.\n",
        "Verify and Analyze Further\n",
        "\n",
        "Break down survival rates based on gender, class, and age to understand who had higher survival chances.\n",
        "Compare the survival rates across different passenger groups to identify patterns.\n",
        "\n",
        "The computed survival rate is 38.38%, meaning that only about 38% of the passengers survived, while 61.62% did not survive.\n",
        "\n",
        "Possible Factors Influencing Survival:\n",
        "\n",
        "Class Status: First-class passengers were more likely to survive due to better access to lifeboats.\n",
        "\n",
        "Gender and Age: Women and children were prioritized during evacuation, likely leading to a higher survival rate for these groups.\n",
        "\n",
        "Embarkation Point & Location on the Ship: Passengers in different parts of the ship may have had different survival chances.\n",
        "\n",
        " For me,the low survival rate reflects the severity of the Titanic disaster, where lifeboat shortages, evacuation priorities, and passengers social class."
      ],
      "metadata": {
        "id": "gM7XK5seXozc"
      }
    },
    {
      "cell_type": "code",
      "source": [
        "import matplotlib.pyplot as plt\n",
        "# Plot age distribution of survivors vs. non-survivors\n",
        "plt.hist(df[df[\"Survived\"] == 1][\"Age\"].dropna(), bins=20, alpha=0.5, label=\"Survived\")\n",
        "plt.hist(df[df[\"Survived\"] == 0][\"Age\"].dropna(), bins=20, alpha=0.5, label=\"Did Not Survive\")\n",
        "plt.legend()\n",
        "plt.xlabel(\"Age\")\n",
        "plt.ylabel(\"Count\")\n",
        "plt.show()"
      ],
      "metadata": {
        "id": "6ktFeKFRbsR2"
      },
      "execution_count": null,
      "outputs": []
    },
    {
      "cell_type": "markdown",
      "source": [
        "Question 4. Does age impact survival? How?\n",
        "Answer: Yes age influenced survival because, Children Were Prioritized\n",
        " and the \"Women and Children First\" policy meant that younger passengers were given priority access to lifeboats. As a result, children had a higher chance of survival compared to adults.\n",
        "While the elderly passengers may have struggled with mobility and reaching lifeboats in time. They were less likely to be prioritized compared to women and children. Age and Social Class Combined Effects\n",
        "first-class children had a better chance of survival than third-class children, showing that both age and social class played a role.\n",
        "Third-class adults and elderly passengers had some of the lowest survival rates due to limited access to lifeboats."
      ],
      "metadata": {
        "id": "JMnOJJG6b7Xn"
      }
    }
  ]
}